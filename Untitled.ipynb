{
 "cells": [
  {
   "cell_type": "code",
   "execution_count": null,
   "id": "7dd8dc62-9b97-4441-bdc5-c691036e9247",
   "metadata": {},
   "outputs": [],
   "source": []
  },
  {
   "cell_type": "code",
   "execution_count": 8,
   "id": "8ffaebf0-5538-4ab7-ac23-45e0d5e6b376",
   "metadata": {
    "tags": []
   },
   "outputs": [
    {
     "name": "stdout",
     "output_type": "stream",
     "text": [
      "UPDATING GIT HUB\n",
      "########################################################\n",
      "From https://github.com/ComradMarx/bow2\n",
      " * branch            main       -> FETCH_HEAD\n",
      "Already up to date.\n",
      "Reinitialized existing Git repository in /Users/deanemarks/Desktop/bow/.git/\n",
      "[main 27553b3] UPDATED: {curr_date_str}\n",
      " 18 files changed, 634 insertions(+), 369 deletions(-)\n",
      " rename .ipynb_checkpoints/{logo-checkpoint.ipynb => Logo_upload_listener-checkpoint.ipynb} (100%)\n",
      " rename logo.ipynb => Logo_upload_listener.ipynb (71%)\n",
      " create mode 100644 index_2.html\n",
      " create mode 100644 logo_mask/0.png\n",
      "Enumerating objects: 36, done.\n",
      "Counting objects: 100% (36/36), done.\n",
      "Delta compression using up to 4 threads\n",
      "Compressing objects: 100% (20/20), done.\n",
      "Writing objects: 100% (20/20), 2.09 MiB | 4.69 MiB/s, done.\n",
      "Total 20 (delta 6), reused 0 (delta 0), pack-reused 0\n",
      "remote: Resolving deltas: 100% (6/6), completed with 5 local objects.\u001b[K\n",
      "To https://github.com/ComradMarx/bow2.git\n",
      "   af4c975..27553b3  main -> main\n",
      "########################################################\n",
      "GIT HUB UPDATED\n",
      "\n",
      "\n"
     ]
    }
   ],
   "source": [
    "import os\n",
    "\n",
    "#UPDATE GITHUB REPO / WEBPAGE\n",
    "print('UPDATING GIT HUB')\n",
    "print('########################################################')\n",
    "os.chdir('/Users/deanemarks/Desktop/bow')             #change to html directory \n",
    "!git pull https://github.com/ComradMarx/bow2.git  main                      #pulls the files into your directory\n",
    "!git init                                                                      #creates a hidden git folder / repo\n",
    "!git add .                                                                     #adds \"NEW\" files to the repo\n",
    "!git commit -m \"UPDATED: {curr_date_str}\"                                             #commits the new files to the repo\n",
    "!git push https://github.com/ComradMarx/bow2.git  main                    #pushes the files to the repo to github?\n",
    "print('########################################################')\n",
    "print('GIT HUB UPDATED')\n",
    "print('\\n')"
   ]
  },
  {
   "cell_type": "code",
   "execution_count": 7,
   "id": "4cfc4d15-f849-4062-99e5-2e160d47e466",
   "metadata": {
    "tags": []
   },
   "outputs": [
    {
     "name": "stdout",
     "output_type": "stream",
     "text": [
      "Serving HTTP on :: port 8000 (http://[::]:8000/) ...\n",
      "::1 - - [17/May/2023 14:43:50] \"GET / HTTP/1.1\" 304 -\n",
      "::1 - - [17/May/2023 14:43:50] \"GET /logo_mask/1.png HTTP/1.1\" 200 -\n",
      "::1 - - [17/May/2023 14:44:11] \"GET /logo_mask/2.png HTTP/1.1\" 200 -\n",
      "::1 - - [17/May/2023 14:44:16] \"GET /logo_mask/3.png HTTP/1.1\" 200 -\n",
      "::1 - - [17/May/2023 14:44:39] \"GET /logo_mask/4.png HTTP/1.1\" 200 -\n",
      "::1 - - [17/May/2023 14:44:50] \"GET /logo_mask/10.png HTTP/1.1\" 200 -\n",
      "::1 - - [17/May/2023 14:44:52] \"GET /logo_mask/9.png HTTP/1.1\" 200 -\n",
      "::1 - - [17/May/2023 14:44:54] \"GET /logo_mask/8.png HTTP/1.1\" 200 -\n",
      "::1 - - [17/May/2023 14:44:56] \"GET /logo_mask/7.png HTTP/1.1\" 200 -\n",
      "::1 - - [17/May/2023 14:44:58] \"GET /logo_mask/5.png HTTP/1.1\" 200 -\n",
      "::1 - - [17/May/2023 14:46:07] \"GET / HTTP/1.1\" 304 -\n",
      "::1 - - [17/May/2023 14:46:12] \"GET / HTTP/1.1\" 304 -\n",
      "::1 - - [17/May/2023 14:46:51] \"GET / HTTP/1.1\" 304 -\n",
      "::1 - - [17/May/2023 14:47:49] \"GET /logo_mask/6.png HTTP/1.1\" 200 -\n",
      "::1 - - [17/May/2023 14:47:52] \"GET /logo_mask/4.png HTTP/1.1\" 200 -\n",
      "::1 - - [17/May/2023 14:48:45] \"GET / HTTP/1.1\" 304 -\n",
      "::1 - - [17/May/2023 14:48:48] \"GET /logo_mask/5.png HTTP/1.1\" 200 -\n",
      "::1 - - [17/May/2023 14:49:01] \"GET /logo_mask/6.png HTTP/1.1\" 304 -\n",
      "::1 - - [17/May/2023 14:49:03] \"GET /logo_mask/7.png HTTP/1.1\" 200 -\n",
      "::1 - - [17/May/2023 14:50:39] \"GET /logo_mask/7.png HTTP/1.1\" 304 -\n",
      "::1 - - [17/May/2023 14:50:41] \"GET /logo_mask/6.png HTTP/1.1\" 304 -\n",
      "^C\n",
      "\n",
      "Keyboard interrupt received, exiting.\n"
     ]
    }
   ],
   "source": [
    "!python -m http.server\n"
   ]
  },
  {
   "cell_type": "code",
   "execution_count": null,
   "id": "a1746c07-44e1-4d43-b94b-f441cc5da321",
   "metadata": {},
   "outputs": [],
   "source": []
  }
 ],
 "metadata": {
  "kernelspec": {
   "display_name": "Python 3 (ipykernel)",
   "language": "python",
   "name": "python3"
  },
  "language_info": {
   "codemirror_mode": {
    "name": "ipython",
    "version": 3
   },
   "file_extension": ".py",
   "mimetype": "text/x-python",
   "name": "python",
   "nbconvert_exporter": "python",
   "pygments_lexer": "ipython3",
   "version": "3.8.16"
  }
 },
 "nbformat": 4,
 "nbformat_minor": 5
}
