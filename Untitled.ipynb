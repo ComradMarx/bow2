{
 "cells": [
  {
   "cell_type": "code",
   "execution_count": null,
   "id": "7dd8dc62-9b97-4441-bdc5-c691036e9247",
   "metadata": {},
   "outputs": [],
   "source": []
  },
  {
   "cell_type": "code",
   "execution_count": 2,
   "id": "8ffaebf0-5538-4ab7-ac23-45e0d5e6b376",
   "metadata": {
    "tags": []
   },
   "outputs": [
    {
     "name": "stdout",
     "output_type": "stream",
     "text": [
      "UPDATING GIT HUB\n",
      "########################################################\n",
      "remote: Not Found\n",
      "fatal: repository 'https://github.com/ComradMarx/bow2/.git/' not found\n",
      "Reinitialized existing Git repository in /Users/deanemarks/Desktop/bow/.git/\n",
      "[main 85485fa] UPDATED: {curr_date_str}\n",
      " 19 files changed, 818 insertions(+), 344 deletions(-)\n",
      " create mode 100644 .ipynb_checkpoints/Untitled-checkpoint.ipynb\n",
      " create mode 100644 .ipynb_checkpoints/import_logo_app-checkpoint.ipynb\n",
      " create mode 100644 Untitled.ipynb\n",
      " create mode 100644 import_logo_app.ipynb\n",
      " delete mode 100644 logo/.DS_Store\n",
      " delete mode 100644 logo/.ipynb_checkpoints/test-checkpoint.png\n",
      " delete mode 100644 logo/.ipynb_checkpoints/transparent-checkpoint.png\n",
      " delete mode 100644 logo/dd.jpg\n",
      " delete mode 100644 logo/ex_logo.png\n",
      " delete mode 100644 logo/kappa_sigma_logo.png\n",
      " delete mode 100644 logo/logo.png\n",
      " delete mode 100644 logo/logo_test.png\n",
      " delete mode 100644 logo/neffex.png\n",
      " delete mode 100644 logo/test.png\n",
      " delete mode 100644 logo/transparent.png\n",
      " create mode 100644 upload.html\n",
      "Enumerating objects: 14, done.\n",
      "Counting objects: 100% (14/14), done.\n",
      "Delta compression using up to 4 threads\n",
      "Compressing objects: 100% (9/9), done.\n",
      "Writing objects: 100% (9/9), 6.10 KiB | 3.05 MiB/s, done.\n",
      "Total 9 (delta 4), reused 0 (delta 0), pack-reused 0\n",
      "remote: Resolving deltas: 100% (4/4), completed with 3 local objects.\u001b[K\n",
      "To https://github.com/ComradMarx/bow2.git\n",
      "   e248b44..85485fa  main -> main\n",
      "########################################################\n",
      "GIT HUB UPDATED\n",
      "\n",
      "\n"
     ]
    }
   ],
   "source": [
    "import os\n",
    "\n",
    "#UPDATE GITHUB REPO / WEBPAGE\n",
    "print('UPDATING GIT HUB')\n",
    "print('########################################################')\n",
    "os.chdir('/Users/deanemarks/Desktop/bow')             #change to html directory \n",
    "!git pull https://github.com/ComradMarx/bow2/.git  main                      #pulls the files into your directory\n",
    "!git init                                                                      #creates a hidden git folder / repo\n",
    "!git add .                                                                     #adds \"NEW\" files to the repo\n",
    "!git commit -m \"UPDATED: {curr_date_str}\"                                             #commits the new files to the repo\n",
    "!git push https://github.com/ComradMarx/bow2.git  main                    #pushes the files to the repo to github?\n",
    "print('########################################################')\n",
    "print('GIT HUB UPDATED')\n",
    "print('\\n')"
   ]
  },
  {
   "cell_type": "code",
   "execution_count": null,
   "id": "4cfc4d15-f849-4062-99e5-2e160d47e466",
   "metadata": {
    "tags": []
   },
   "outputs": [
    {
     "name": "stdout",
     "output_type": "stream",
     "text": [
      "Serving HTTP on :: port 8000 (http://[::]:8000/) ...\n",
      "::1 - - [17/May/2023 12:55:54] code 400, message Bad request version ('\\\\x02h2\\\\x08http/1.1\\\\x00#\\\\x00\\\\x00ÿ\\\\x01\\\\x00\\\\x01\\\\x00\\\\x00\\\\x17\\\\x00\\\\x00\\\\x00+\\\\x00\\\\x07\\\\x06úú\\\\x03\\\\x04\\\\x03\\\\x03\\\\x00')\n",
      "::1 - - [17/May/2023 12:55:54] \"\\x16\\x03\\x01\\x02\\x00\\x01\\x00\\x01ü\\x03\\x03s\\x1e\\x80ûÚz(µh\\\\\\x05\\x97\\\\Õí-\\x88\"_±9ÐÖ\\x88\\x13³\\x92^{«\\x93é m\\x93Û\\x0d\\x17\\x0d\\\\\\x81X ?=\\x8b¤À°ú\\x17+ª\\x99Î}ã0ô\\x19\\x09\\x80\\x9f\\x85­\\x00 ÚÚ\\x13\\x01\\x13\\x02\\x13\\x03À+À/À,À0Ì©Ì¨À\\x13À\\x14\\x00\\x9c\\x00\\x9d\\x00/\\x005\\x01\\x00\\x01\\x93\\x8a\\x8a\\x00\\x00\\x00\\x0d\\x00\\x12\\x00\\x10\\x04\\x03\\x08\\x04\\x04\\x01\\x05\\x03\\x08\\x05\\x05\\x01\\x08\\x06\\x06\\x01\\x00\\x10\\x00\\x0e\\x00\\x0c\\x02h2\\x08http/1.1\\x00#\\x00\\x00ÿ\\x01\\x00\\x01\\x00\\x00\\x17\\x00\\x00\\x00+\\x00\\x07\\x06úú\\x03\\x04\\x03\\x03\\x00\" 400 -\n",
      "::1 - - [17/May/2023 12:55:54] code 400, message Bad request version ('r\\\\x10}')\n",
      "::1 - - [17/May/2023 12:55:54] \"\\x16\\x03\\x01\\x02\\x00\\x01\\x00\\x01ü\\x03\\x03 \\x900I\\\\)\\x85\\x83\\x1d8\\x92ÉÉ¼qEö\\x98÷¿b¬¨\\x0d½o\\x08s\\x1fr\\x10} \" 400 -\n",
      "::1 - - [17/May/2023 12:55:56] \"GET / HTTP/1.1\" 200 -\n",
      "::1 - - [17/May/2023 12:55:56] \"GET /center_colors/white.png HTTP/1.1\" 200 -\n",
      "::1 - - [17/May/2023 12:55:56] \"GET /front_colors/white.png HTTP/1.1\" 200 -\n",
      "::1 - - [17/May/2023 12:55:56] \"GET /strap_colors/white.png HTTP/1.1\" 200 -\n",
      "::1 - - [17/May/2023 12:55:56] \"GET /back_colors/white.png HTTP/1.1\" 200 -\n",
      "::1 - - [17/May/2023 12:55:56] \"GET /logo_mask/1.png HTTP/1.1\" 200 -\n",
      "::1 - - [17/May/2023 12:55:57] \"GET /favicon.ico HTTP/1.1\" 200 -\n",
      "::1 - - [17/May/2023 12:56:19] \"GET /logo_mask/2.png HTTP/1.1\" 200 -\n",
      "::1 - - [17/May/2023 12:56:21] \"GET /front_colors/banana.png HTTP/1.1\" 200 -\n",
      "::1 - - [17/May/2023 12:56:24] \"GET /center_colors/bay.png HTTP/1.1\" 200 -\n",
      "::1 - - [17/May/2023 12:56:24] \"GET /strap_colors/bay.png HTTP/1.1\" 200 -\n",
      "::1 - - [17/May/2023 12:56:26] \"GET /back_colors/berry.png HTTP/1.1\" 200 -\n",
      "::1 - - [17/May/2023 12:57:08] \"GET /logo_mask/1.png HTTP/1.1\" 200 -\n",
      "::1 - - [17/May/2023 12:57:27] \"GET /logo_mask/2.png HTTP/1.1\" 200 -\n",
      "::1 - - [17/May/2023 12:57:30] \"GET /logo_mask/3.png HTTP/1.1\" 200 -\n",
      "::1 - - [17/May/2023 12:57:41] \"GET /logo_mask/1.png HTTP/1.1\" 200 -\n",
      "::1 - - [17/May/2023 12:57:45] \"GET /logo_mask/2.png HTTP/1.1\" 304 -\n",
      "::1 - - [17/May/2023 12:58:43] \"GET / HTTP/1.1\" 304 -\n",
      "::1 - - [17/May/2023 12:58:43] \"GET /logo_mask/1.png HTTP/1.1\" 304 -\n",
      "::1 - - [17/May/2023 12:58:58] \"GET /logo_mask/2.png HTTP/1.1\" 200 -\n",
      "::1 - - [17/May/2023 12:59:05] \"GET /back_colors/citrus.png HTTP/1.1\" 200 -\n",
      "::1 - - [17/May/2023 12:59:12] \"GET /logo_mask/3.png HTTP/1.1\" 200 -\n",
      "::1 - - [17/May/2023 12:59:16] \"GET /logo_mask/4.png HTTP/1.1\" 200 -\n",
      "::1 - - [17/May/2023 12:59:21] \"GET /logo_mask/5.png HTTP/1.1\" 200 -\n",
      "::1 - - [17/May/2023 12:59:24] \"GET /logo_mask/1.png HTTP/1.1\" 200 -\n"
     ]
    }
   ],
   "source": [
    "!python -m http.server\n"
   ]
  },
  {
   "cell_type": "code",
   "execution_count": null,
   "id": "a1746c07-44e1-4d43-b94b-f441cc5da321",
   "metadata": {},
   "outputs": [],
   "source": []
  }
 ],
 "metadata": {
  "kernelspec": {
   "display_name": "Python 3 (ipykernel)",
   "language": "python",
   "name": "python3"
  },
  "language_info": {
   "codemirror_mode": {
    "name": "ipython",
    "version": 3
   },
   "file_extension": ".py",
   "mimetype": "text/x-python",
   "name": "python",
   "nbconvert_exporter": "python",
   "pygments_lexer": "ipython3",
   "version": "3.8.16"
  }
 },
 "nbformat": 4,
 "nbformat_minor": 5
}
