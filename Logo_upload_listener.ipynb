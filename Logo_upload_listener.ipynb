{
 "cells": [
  {
   "cell_type": "code",
   "execution_count": null,
   "id": "bb3e1cdb-c4f0-4dd4-84a3-e2fd56bb3ce2",
   "metadata": {},
   "outputs": [],
   "source": []
  },
  {
   "cell_type": "code",
   "execution_count": 1,
   "id": "ea3e216d-0fc3-4552-8670-e1939f73abd0",
   "metadata": {
    "tags": []
   },
   "outputs": [],
   "source": [
    "import os\n",
    "from PIL import Image, ImageDraw , ImageFont, ImageOps, ImageFilter\n",
    "import requests as r\n",
    "from bs4 import BeautifulSoup\n",
    "import random\n",
    "import time\n",
    "\n",
    "\n",
    "base_dir = '/Users/deanemarks/Desktop/bow/'\n",
    "dir2 = '/Users/deanemarks/Desktop/Delta_Dawn_&_Python'\n",
    "os.chdir(dir2)\n",
    "%run Functions.ipynb\n",
    "os.chdir('/Users/deanemarks/Desktop/bow/uploads')\n",
    "\n",
    "\n",
    "\n",
    "#delete everything \n",
    "def delete_files_in_folder(folder_path):\n",
    "    # Get all the files in the folder\n",
    "    files = os.listdir(folder_path)\n",
    "\n",
    "    # Iterate over each file and delete it\n",
    "    for file_name in files:\n",
    "        file_path = os.path.join(folder_path, file_name)\n",
    "        if os.path.isfile(file_path):\n",
    "            os.remove(file_path)"
   ]
  },
  {
   "cell_type": "code",
   "execution_count": null,
   "id": "bc115152-7d4a-435b-bd8b-3b17d1b9bd9e",
   "metadata": {
    "tags": []
   },
   "outputs": [],
   "source": []
  },
  {
   "cell_type": "code",
   "execution_count": null,
   "id": "58377daa-c814-4d4b-94ff-cc432c40e860",
   "metadata": {
    "tags": []
   },
   "outputs": [],
   "source": [
    "while True:\n",
    "\n",
    "    time.sleep(1)\n",
    "\n",
    "    while True:\n",
    "        try:\n",
    "            os.listdir()[0]\n",
    "            break\n",
    "        except IndexError:\n",
    "            pass\n",
    "\n",
    "\n",
    "        \n",
    "    #figure out how to get this in from the internet\n",
    "    logo_variable = os.listdir()[0]\n",
    "    logo = Image.open(f\"/Users/deanemarks/Desktop/bow/uploads/{logo_variable}\").convert('RGBA')\n",
    "\n",
    "\n",
    "    #how do I activate this? \n",
    "    #logo = kill_white(logo)\n",
    "\n",
    "\n",
    "    #read in the shapes\n",
    "    front_shape = Image.open(f\"/Users/deanemarks/Desktop/bow/shapes/front.png\").convert('RGBA')\n",
    "    back_shape = Image.open(f\"/Users/deanemarks/Desktop/bow/shapes/back.png\").convert('RGBA')\n",
    "    center_shape = Image.open(f\"/Users/deanemarks/Desktop/bow/shapes/center.png\").convert('RGBA')\n",
    "    strap_shape = Image.open(f\"/Users/deanemarks/Desktop/bow/shapes/strap.png\").convert('RGBA')\n",
    "\n",
    "\n",
    "\n",
    "\n",
    "\n",
    "    Y = 1\n",
    "\n",
    "    while Y < 11:\n",
    "    #while Y < 2:\n",
    "\n",
    "\n",
    "        if Y == 1:\n",
    "            logo_size = 50\n",
    "\n",
    "        if  Y == 2:\n",
    "            logo_size = 75\n",
    "\n",
    "        if  Y == 3:\n",
    "            logo_size = 100   \n",
    "\n",
    "        if  Y == 4:\n",
    "            logo_size = 125\n",
    "\n",
    "        if  Y == 5:\n",
    "            logo_size = 150\n",
    "\n",
    "        if  Y == 5:\n",
    "            logo_size = 175\n",
    "\n",
    "        if  Y == 7:\n",
    "            logo_size = 200   \n",
    "\n",
    "        if  Y == 8:\n",
    "            logo_size = 225\n",
    "\n",
    "        if  Y == 9:\n",
    "            logo_size = 250\n",
    "\n",
    "        if  Y == 10:\n",
    "            logo_size = 275\n",
    "\n",
    "\n",
    "\n",
    "\n",
    "        logo = resize_img_porportional_by_height(img = logo, \n",
    "                                  desired_height = logo_size )\n",
    "\n",
    "\n",
    "        #selects smallest side as the margin\n",
    "        size_list = list(logo.size)\n",
    "        size_list.sort()\n",
    "        logo_margin = size_list[0]\n",
    "        logo_margin = int(logo_margin/ 2)\n",
    "\n",
    "        #transparent brick layer with logos\n",
    "        ########################################\n",
    "        brick = brick_logo(\n",
    "                   Y_margin = logo_margin, \n",
    "                   X_margin = logo_margin, \n",
    "                   Z_margin= logo_margin, \n",
    "                   logo_rotation=0, \n",
    "                   logo_variable = logo, \n",
    "                   img_variable = front_shape)\n",
    "\n",
    "\n",
    "\n",
    "        # create a Mask from bow shapes and transparent logo brick \n",
    "        front_mask = mask(shape_image = front_shape , design_image = brick )\n",
    "        center_mask = mask(shape_image = center_shape , design_image = brick.rotate(90) )\n",
    "        brick = shift_image(brick, lef_right_variable = 20, up_down_variable = 0)   #shift the brick\n",
    "        back_mask = mask(shape_image = back_shape  , design_image = brick.rotate(180))\n",
    "        brick = shift_image(brick, lef_right_variable = -20, up_down_variable = 0) #SHIFT THE BRICK BACK? \n",
    "        strap_mask = mask(shape_image = strap_shape  , design_image = brick )\n",
    "\n",
    "\n",
    "\n",
    "\n",
    "        #put combine the images\n",
    "        result = Image.alpha_composite(strap_mask, back_mask)\n",
    "        result = Image.alpha_composite(result, front_mask)\n",
    "        result = Image.alpha_composite(result, center_mask)\n",
    "\n",
    "\n",
    "\n",
    "        result.save(f'/Users/deanemarks/Desktop/bow/logo_mask/{Y}.png')\n",
    "        print(Y)\n",
    "\n",
    "        Y+=1 \n",
    "\n",
    "\n",
    "\n",
    "\n",
    "\n",
    "    delete_files_in_folder('/Users/deanemarks/Desktop/bow/uploads')"
   ]
  },
  {
   "cell_type": "code",
   "execution_count": null,
   "id": "0b37d971-0bbb-450f-ae1e-58a82a554ec3",
   "metadata": {},
   "outputs": [],
   "source": []
  },
  {
   "cell_type": "code",
   "execution_count": null,
   "id": "dc548d3c-eb62-459b-8f4b-7dd0f020319b",
   "metadata": {},
   "outputs": [],
   "source": []
  },
  {
   "cell_type": "code",
   "execution_count": null,
   "id": "5514163b-67de-436e-a545-439c161fedeb",
   "metadata": {},
   "outputs": [],
   "source": []
  },
  {
   "cell_type": "code",
   "execution_count": null,
   "id": "dcc58598-624d-4a83-828d-616daea20aa4",
   "metadata": {},
   "outputs": [],
   "source": []
  },
  {
   "cell_type": "code",
   "execution_count": null,
   "id": "982d97d3-9a9a-41c3-8a68-f4549fcf4094",
   "metadata": {
    "tags": []
   },
   "outputs": [],
   "source": []
  },
  {
   "cell_type": "code",
   "execution_count": null,
   "id": "05a81937-c969-4818-bd82-b707ce931725",
   "metadata": {
    "tags": []
   },
   "outputs": [],
   "source": [
    "import os"
   ]
  },
  {
   "cell_type": "code",
   "execution_count": 56,
   "id": "979260e9-689f-4f81-beca-0b99b6d5e86b",
   "metadata": {
    "tags": []
   },
   "outputs": [
    {
     "name": "stdout",
     "output_type": "stream",
     "text": [
      "0 cropped\n",
      "1 cropped\n",
      "2 cropped\n",
      "3 cropped\n",
      "4 cropped\n",
      "5 cropped\n",
      "6 cropped\n",
      "7 cropped\n",
      "8 cropped\n",
      "9 cropped\n",
      "10 cropped\n",
      "11 cropped\n",
      "12 cropped\n",
      "13 cropped\n",
      "14 cropped\n",
      "15 cropped\n",
      "16 cropped\n",
      "17 cropped\n",
      "18 cropped\n",
      "19 cropped\n",
      "20 cropped\n",
      "21 cropped\n",
      "22 cropped\n",
      "23 cropped\n",
      "24 cropped\n",
      "25 cropped\n",
      "26 cropped\n",
      "27 cropped\n",
      "28 cropped\n",
      "29 cropped\n",
      "30 cropped\n",
      "31 cropped\n",
      "32 cropped\n",
      "33 cropped\n",
      "34 cropped\n",
      "35 cropped\n",
      "36 cropped\n",
      "37 cropped\n",
      "38 cropped\n",
      "39 cropped\n",
      "40 cropped\n",
      "41 cropped\n",
      "42 cropped\n",
      "43 cropped\n",
      "44 cropped\n",
      "45 cropped\n",
      "46 cropped\n",
      "47 cropped\n",
      "48 cropped\n",
      "49 cropped\n",
      "50 cropped\n",
      "51 cropped\n",
      "52 cropped\n",
      "53 cropped\n",
      "54 cropped\n",
      "55 cropped\n",
      "56 cropped\n",
      "57 cropped\n",
      "58 cropped\n",
      "59 cropped\n",
      "60 cropped\n",
      "61 cropped\n",
      "62 cropped\n",
      "63 cropped\n",
      "64 cropped\n",
      "65 cropped\n",
      "66 cropped\n",
      "67 cropped\n"
     ]
    }
   ],
   "source": [
    "working_dir = '/Users/deanemarks/Desktop/bow/center_colors/'\n",
    "files_list = os.listdir(working_dir)\n",
    "\n",
    "\n",
    "Y= 0\n",
    "while Y < len(files_list):\n",
    "    \n",
    "    img = Image.open(working_dir+files_list[Y]).convert('RGBA')\n",
    "\n",
    "\n",
    "    upper = 320 \n",
    "    left = 0\n",
    "\n",
    "    right =  img.width - 30\n",
    "    lower = img.height - 370\n",
    "\n",
    "\n",
    "    cropped_image = img.crop((left, upper, right, lower))\n",
    "    cropped_image.save(working_dir+files_list[Y])\n",
    "\n",
    "\n",
    "    print(Y, 'cropped')\n",
    "    \n",
    "    Y+=1\n",
    "    \n",
    "    \n",
    "    \n",
    "    "
   ]
  },
  {
   "cell_type": "code",
   "execution_count": 5,
   "id": "66960fbf-a61f-424e-ac03-99794340fa7a",
   "metadata": {
    "tags": []
   },
   "outputs": [],
   "source": []
  },
  {
   "cell_type": "code",
   "execution_count": null,
   "id": "8ec7b27a-6d7e-432d-bad1-dd097ecebc59",
   "metadata": {
    "tags": []
   },
   "outputs": [],
   "source": []
  },
  {
   "cell_type": "code",
   "execution_count": null,
   "id": "e66cc64f-9a9a-439d-9250-1716295b4048",
   "metadata": {},
   "outputs": [],
   "source": []
  },
  {
   "cell_type": "code",
   "execution_count": null,
   "id": "4b3c586e-edb6-4d74-95a4-f2d72d46964e",
   "metadata": {
    "tags": []
   },
   "outputs": [],
   "source": []
  },
  {
   "cell_type": "code",
   "execution_count": 8,
   "id": "b7ffcb92-3788-4a02-9ff8-2a5d98cc3ad5",
   "metadata": {
    "tags": []
   },
   "outputs": [],
   "source": []
  },
  {
   "cell_type": "code",
   "execution_count": 67,
   "id": "8633dc17-d1e6-4a7b-8604-06d09087a986",
   "metadata": {
    "tags": []
   },
   "outputs": [
    {
     "name": "stdout",
     "output_type": "stream",
     "text": [
      "1\n",
      "2\n",
      "3\n",
      "4\n",
      "5\n",
      "6\n",
      "7\n",
      "8\n",
      "9\n",
      "10\n"
     ]
    }
   ],
   "source": [
    "#figure out how to get this in from the internet\n",
    "logo_variable = 'ex_logo.png'\n",
    "logo = Image.open(f\"/Users/deanemarks/Desktop/bow/logos/{logo_variable}\").convert('RGBA')\n",
    "\n",
    "\n",
    "#how do I activate this? \n",
    "#logo = kill_white(logo)\n",
    "\n",
    "\n",
    "#read in the shapes\n",
    "front_shape = Image.open(f\"/Users/deanemarks/Desktop/bow/shapes/front.png\").convert('RGBA')\n",
    "back_shape = Image.open(f\"/Users/deanemarks/Desktop/bow/shapes/back.png\").convert('RGBA')\n",
    "center_shape = Image.open(f\"/Users/deanemarks/Desktop/bow/shapes/center.png\").convert('RGBA')\n",
    "strap_shape = Image.open(f\"/Users/deanemarks/Desktop/bow/shapes/strap.png\").convert('RGBA')\n",
    "\n",
    "\n",
    "\n",
    "\n",
    "\n",
    "Y = 1\n",
    "\n",
    "while Y < 11:\n",
    "#while Y < 2:\n",
    "\n",
    "\n",
    "    if Y == 1:\n",
    "        logo_size = 50\n",
    "\n",
    "    if  Y == 2:\n",
    "        logo_size = 75\n",
    "\n",
    "    if  Y == 3:\n",
    "        logo_size = 100   \n",
    "\n",
    "    if  Y == 4:\n",
    "        logo_size = 125\n",
    "\n",
    "    if  Y == 5:\n",
    "        logo_size = 150\n",
    "\n",
    "    if  Y == 5:\n",
    "        logo_size = 175\n",
    "\n",
    "    if  Y == 7:\n",
    "        logo_size = 200   \n",
    "\n",
    "    if  Y == 8:\n",
    "        logo_size = 225\n",
    "\n",
    "    if  Y == 9:\n",
    "        logo_size = 250\n",
    "\n",
    "    if  Y == 10:\n",
    "        logo_size = 275\n",
    "\n",
    "\n",
    "\n",
    "\n",
    "    logo = resize_img_porportional_by_height(img = logo, \n",
    "                              desired_height = logo_size )\n",
    "\n",
    "\n",
    "    #selects smallest side as the margin\n",
    "    size_list = list(logo.size)\n",
    "    size_list.sort()\n",
    "    logo_margin = size_list[0]\n",
    "    logo_margin = int(logo_margin/ 2)\n",
    "\n",
    "    #transparent brick layer with logos\n",
    "    ########################################\n",
    "    brick = brick_logo(\n",
    "               Y_margin = logo_margin, \n",
    "               X_margin = logo_margin, \n",
    "               Z_margin= logo_margin, \n",
    "               logo_rotation=0, \n",
    "               logo_variable = logo, \n",
    "               img_variable = front_shape)\n",
    "\n",
    "\n",
    "\n",
    "    # create a Mask from bow shapes and transparent logo brick \n",
    "    front_mask = mask(shape_image = front_shape , design_image = brick )\n",
    "    center_mask = mask(shape_image = center_shape , design_image = brick.rotate(90) )\n",
    "    brick = shift_image(brick, lef_right_variable = 20, up_down_variable = 0)   #shift the brick\n",
    "    back_mask = mask(shape_image = back_shape  , design_image = brick.rotate(180))\n",
    "    brick = shift_image(brick, lef_right_variable = -20, up_down_variable = 0) #SHIFT THE BRICK BACK? \n",
    "    strap_mask = mask(shape_image = strap_shape  , design_image = brick )\n",
    "\n",
    "\n",
    "\n",
    "\n",
    "    #put combine the images\n",
    "    result = Image.alpha_composite(strap_mask, back_mask)\n",
    "    result = Image.alpha_composite(result, front_mask)\n",
    "    result = Image.alpha_composite(result, center_mask)\n",
    "\n",
    "\n",
    "\n",
    "    result.save(f'/Users/deanemarks/Desktop/bow/logo_mask/{Y}.png')\n",
    "    print(Y)\n",
    "    \n",
    "    Y+=1\n"
   ]
  },
  {
   "cell_type": "code",
   "execution_count": null,
   "id": "0414d904-df6f-4012-80e7-9abcc6868c17",
   "metadata": {
    "tags": []
   },
   "outputs": [],
   "source": []
  },
  {
   "cell_type": "code",
   "execution_count": 62,
   "id": "b810fa2b-e885-4a15-af97-47a7b1dec32d",
   "metadata": {
    "tags": []
   },
   "outputs": [],
   "source": [
    "front_shape = Image.open(f\"/Users/deanemarks/Desktop/bow/shapes/front.png\").convert('RGBA')\n",
    "front_test = Image.open(f\"/Users/deanemarks/Desktop/bow/front_colors/white.png\").convert('RGBA')\n"
   ]
  },
  {
   "cell_type": "code",
   "execution_count": 64,
   "id": "c06d4263-484f-438f-b27f-67c8174e8ccd",
   "metadata": {
    "tags": []
   },
   "outputs": [
    {
     "ename": "ValueError",
     "evalue": "images do not match",
     "output_type": "error",
     "traceback": [
      "\u001b[0;31m---------------------------------------------------------------------------\u001b[0m",
      "\u001b[0;31mValueError\u001b[0m                                Traceback (most recent call last)",
      "Cell \u001b[0;32mIn[64], line 1\u001b[0m\n\u001b[0;32m----> 1\u001b[0m \u001b[43mImage\u001b[49m\u001b[38;5;241;43m.\u001b[39;49m\u001b[43malpha_composite\u001b[49m\u001b[43m(\u001b[49m\u001b[43mfront_shape\u001b[49m\u001b[43m,\u001b[49m\u001b[43m \u001b[49m\u001b[43mfront_test\u001b[49m\u001b[43m \u001b[49m\u001b[43m)\u001b[49m\n",
      "File \u001b[0;32m~/miniconda3/lib/python3.8/site-packages/PIL/Image.py:3302\u001b[0m, in \u001b[0;36malpha_composite\u001b[0;34m(im1, im2)\u001b[0m\n\u001b[1;32m   3300\u001b[0m im1\u001b[38;5;241m.\u001b[39mload()\n\u001b[1;32m   3301\u001b[0m im2\u001b[38;5;241m.\u001b[39mload()\n\u001b[0;32m-> 3302\u001b[0m \u001b[38;5;28;01mreturn\u001b[39;00m im1\u001b[38;5;241m.\u001b[39m_new(\u001b[43mcore\u001b[49m\u001b[38;5;241;43m.\u001b[39;49m\u001b[43malpha_composite\u001b[49m\u001b[43m(\u001b[49m\u001b[43mim1\u001b[49m\u001b[38;5;241;43m.\u001b[39;49m\u001b[43mim\u001b[49m\u001b[43m,\u001b[49m\u001b[43m \u001b[49m\u001b[43mim2\u001b[49m\u001b[38;5;241;43m.\u001b[39;49m\u001b[43mim\u001b[49m\u001b[43m)\u001b[49m)\n",
      "\u001b[0;31mValueError\u001b[0m: images do not match"
     ]
    }
   ],
   "source": [
    "Image.alpha_composite(front_shape, front_test )"
   ]
  },
  {
   "cell_type": "code",
   "execution_count": 65,
   "id": "68e82171-29f7-4a4a-847d-1250b48c01d9",
   "metadata": {
    "tags": []
   },
   "outputs": [
    {
     "data": {
      "text/plain": [
       "(1882, 995)"
      ]
     },
     "execution_count": 65,
     "metadata": {},
     "output_type": "execute_result"
    }
   ],
   "source": [
    "front_test.size"
   ]
  },
  {
   "cell_type": "code",
   "execution_count": 66,
   "id": "be1e4c09-8b41-4294-b3fd-2e1bb341efe0",
   "metadata": {
    "tags": []
   },
   "outputs": [
    {
     "data": {
      "text/plain": [
       "(1845, 1692)"
      ]
     },
     "execution_count": 66,
     "metadata": {},
     "output_type": "execute_result"
    }
   ],
   "source": [
    "front_shape.size"
   ]
  },
  {
   "cell_type": "code",
   "execution_count": null,
   "id": "a325367d-d0da-473d-ba2a-41c9709b2b39",
   "metadata": {},
   "outputs": [],
   "source": []
  }
 ],
 "metadata": {
  "kernelspec": {
   "display_name": "Python 3 (ipykernel)",
   "language": "python",
   "name": "python3"
  },
  "language_info": {
   "codemirror_mode": {
    "name": "ipython",
    "version": 3
   },
   "file_extension": ".py",
   "mimetype": "text/x-python",
   "name": "python",
   "nbconvert_exporter": "python",
   "pygments_lexer": "ipython3",
   "version": "3.8.16"
  }
 },
 "nbformat": 4,
 "nbformat_minor": 5
}
