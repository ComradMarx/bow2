{
 "cells": [
  {
   "cell_type": "code",
   "execution_count": null,
   "id": "67061033-c0aa-4d63-af43-91f242bf0fb5",
   "metadata": {},
   "outputs": [],
   "source": [
    "''\n"
   ]
  },
  {
   "cell_type": "code",
   "execution_count": 1,
   "id": "095232df-d821-46b8-88b1-b58f1e4794b4",
   "metadata": {
    "tags": []
   },
   "outputs": [],
   "source": [
    "base_dir ='/Users/deanemarks/Desktop/bow/'\n"
   ]
  },
  {
   "cell_type": "code",
   "execution_count": null,
   "id": "bb3e1cdb-c4f0-4dd4-84a3-e2fd56bb3ce2",
   "metadata": {},
   "outputs": [],
   "source": []
  },
  {
   "cell_type": "code",
   "execution_count": 57,
   "id": "ea3e216d-0fc3-4552-8670-e1939f73abd0",
   "metadata": {
    "tags": []
   },
   "outputs": [],
   "source": [
    "import os\n",
    "dir2 = '/Users/deanemarks/Desktop/Delta_Dawn_&_Python'\n",
    "os.chdir(dir2)\n",
    "\n",
    "\n",
    "from PIL import Image, ImageDraw , ImageFont, ImageOps, ImageFilter\n",
    "import requests as r\n",
    "from bs4 import BeautifulSoup\n",
    "%run Functions.ipynb\n",
    "import random\n",
    "os.chdir(base_dir)"
   ]
  },
  {
   "cell_type": "code",
   "execution_count": null,
   "id": "a8e790ce-2c62-4cb1-a1cd-b3190d6bca10",
   "metadata": {},
   "outputs": [],
   "source": []
  },
  {
   "cell_type": "code",
   "execution_count": 5,
   "id": "aca24731-c24a-4831-b703-43ae2b1e138c",
   "metadata": {
    "tags": []
   },
   "outputs": [],
   "source": []
  },
  {
   "cell_type": "code",
   "execution_count": null,
   "id": "736f553c-7220-4ff3-bdef-b29eb3f2dff2",
   "metadata": {},
   "outputs": [],
   "source": []
  },
  {
   "cell_type": "code",
   "execution_count": null,
   "id": "38cba172-437a-4558-acd2-3c4771e2bb5a",
   "metadata": {},
   "outputs": [],
   "source": []
  },
  {
   "cell_type": "code",
   "execution_count": 65,
   "id": "58377daa-c814-4d4b-94ff-cc432c40e860",
   "metadata": {
    "tags": []
   },
   "outputs": [
    {
     "name": "stdout",
     "output_type": "stream",
     "text": [
      "1\n",
      "2\n",
      "3\n",
      "4\n",
      "5\n",
      "6\n",
      "7\n",
      "8\n",
      "9\n",
      "10\n",
      "UPDATING GIT HUB\n",
      "########################################################\n",
      "fatal: unable to access 'https://github.com/ComradMarx/bow2.git/': Could not resolve host: github.com\n",
      "Reinitialized existing Git repository in /Users/deanemarks/Desktop/bow/.git/\n",
      "[main f12dfcf] UPDATED: {curr_date_str}\n",
      " 15 files changed, 28 insertions(+), 21 deletions(-)\n",
      " create mode 100644 logo/kappa_sigma_logo.png\n",
      " create mode 100644 logo/logo.png\n",
      " create mode 100644 logo/logo_test.png\n",
      " create mode 100644 logo/neffex.png\n",
      "fatal: unable to access 'https://github.com/ComradMarx/bow2.git/': Could not resolve host: github.com\n",
      "########################################################\n",
      "GIT HUB UPDATED\n",
      "\n",
      "\n"
     ]
    }
   ],
   "source": [
    "#figure out how to get this in from the internet\n",
    "logo_variable = 'kappa_sigma_logo.png'\n",
    "logo = Image.open(f\"/Users/deanemarks/Desktop/bow/logo/{logo_variable}\").convert('RGBA')\n",
    "\n",
    "\n",
    "\n",
    "#logo = kill_white(logo)\n",
    "\n",
    "\n",
    "#read in the shapes\n",
    "front_shape = Image.open(f\"/Users/deanemarks/Desktop/bow/shapes/front.png\").convert('RGBA')\n",
    "back_shape = Image.open(f\"/Users/deanemarks/Desktop/bow/shapes/back.png\").convert('RGBA')\n",
    "center_shape = Image.open(f\"/Users/deanemarks/Desktop/bow/shapes/center.png\").convert('RGBA')\n",
    "strap_shape = Image.open(f\"/Users/deanemarks/Desktop/bow/shapes/strap.png\").convert('RGBA')\n",
    "\n",
    "\n",
    "\n",
    "\n",
    "\n",
    "Y = 1\n",
    "\n",
    "while Y < 11:\n",
    "#while Y < 2:\n",
    "\n",
    "\n",
    "    if Y == 1:\n",
    "        logo_size = 50\n",
    "\n",
    "    if  Y == 2:\n",
    "        logo_size = 75\n",
    "\n",
    "    if  Y == 3:\n",
    "        logo_size = 100   \n",
    "\n",
    "    if  Y == 4:\n",
    "        logo_size = 125\n",
    "\n",
    "    if  Y == 5:\n",
    "        logo_size = 150\n",
    "\n",
    "    if  Y == 5:\n",
    "        logo_size = 175\n",
    "\n",
    "    if  Y == 7:\n",
    "        logo_size = 200   \n",
    "\n",
    "    if  Y == 8:\n",
    "        logo_size = 225\n",
    "\n",
    "    if  Y == 9:\n",
    "        logo_size = 250\n",
    "\n",
    "    if  Y == 10:\n",
    "        logo_size = 275\n",
    "        \n",
    "        \n",
    "    \n",
    "        \n",
    "    logo = resize_img_porportional_by_height(img = logo, \n",
    "                              desired_height = logo_size )\n",
    "\n",
    "        \n",
    "    #selects smallest side as the margin\n",
    "    size_list = list(logo.size)\n",
    "    size_list.sort()\n",
    "    logo_margin = size_list[0]\n",
    "    logo_margin = int(logo_margin/ 2)\n",
    "    \n",
    "    #transparent brick layer with logos\n",
    "    ########################################\n",
    "    brick = brick_logo(\n",
    "               Y_margin = logo_margin, \n",
    "               X_margin = logo_margin, \n",
    "               Z_margin= logo_margin, \n",
    "               logo_rotation=0, \n",
    "               logo_variable = logo, \n",
    "               img_variable = front_shape)\n",
    "\n",
    "    \n",
    "    \n",
    "    # create a Mask from bow shapes and transparent logo brick \n",
    "    front_mask = mask(shape_image = front_shape , design_image = brick )\n",
    "    center_mask = mask(shape_image = center_shape , design_image = brick.rotate(90) )\n",
    "    brick = shift_image(brick, lef_right_variable = 20, up_down_variable = 0)   #shift the brick\n",
    "    back_mask = mask(shape_image = back_shape  , design_image = brick.rotate(180))\n",
    "    brick = shift_image(brick, lef_right_variable = -20, up_down_variable = 0) #SHIFT THE BRICK BACK? \n",
    "    strap_mask = mask(shape_image = strap_shape  , design_image = brick )\n",
    "\n",
    "\n",
    "    \n",
    "    \n",
    "    #put combine the images\n",
    "    result = Image.alpha_composite(strap_mask, back_mask)\n",
    "    result = Image.alpha_composite(result, front_mask)\n",
    "    result = Image.alpha_composite(result, center_mask)\n",
    "\n",
    "    \n",
    "    \n",
    "\n",
    "    result.save(f'logo_mask/{Y}.png')\n",
    "    print(Y)\n",
    "    \n",
    "    Y+=1 \n",
    "    \n",
    "    \n",
    "    \n",
    "    \n",
    "    \n",
    "    \n",
    "    \n",
    "#UPDATE GITHUB REPO / WEBPAGE\n",
    "print('UPDATING GIT HUB')\n",
    "print('########################################################')\n",
    "os.chdir('/Users/deanemarks/Desktop/bow')             #change to html directory \n",
    "!git pull https://github.com/ComradMarx/bow2.git  main                      #pulls the files into your directory\n",
    "!git init                                                                      #creates a hidden git folder / repo\n",
    "!git add .                                                                     #adds \"NEW\" files to the repo\n",
    "!git commit -m \"UPDATED: {curr_date_str}\"                                             #commits the new files to the repo\n",
    "!git push https://github.com/ComradMarx/bow2.git  main                    #pushes the files to the repo to github?\n",
    "print('########################################################')\n",
    "print('GIT HUB UPDATED')\n",
    "print('\\n')\n",
    "\n",
    "\n"
   ]
  },
  {
   "cell_type": "code",
   "execution_count": null,
   "id": "982d97d3-9a9a-41c3-8a68-f4549fcf4094",
   "metadata": {
    "tags": []
   },
   "outputs": [],
   "source": []
  },
  {
   "cell_type": "code",
   "execution_count": 64,
   "id": "05a81937-c969-4818-bd82-b707ce931725",
   "metadata": {
    "tags": []
   },
   "outputs": [
    {
     "name": "stdout",
     "output_type": "stream",
     "text": [
      "UPDATING GIT HUB\n",
      "########################################################\n",
      "fatal: unable to access 'https://github.com/ComradMarx/bow2.git/': Could not resolve host: github.com\n",
      "Reinitialized existing Git repository in /Users/deanemarks/Desktop/bow/.git/\n",
      "[main 00d76ee] UPDATED: {curr_date_str}\n",
      " 11 files changed, 10 insertions(+), 37 deletions(-)\n",
      "fatal: unable to access 'https://github.com/ComradMarx/bow2.git/': Could not resolve host: github.com\n",
      "########################################################\n",
      "GIT HUB UPDATED\n",
      "\n",
      "\n"
     ]
    }
   ],
   "source": []
  },
  {
   "cell_type": "code",
   "execution_count": null,
   "id": "979260e9-689f-4f81-beca-0b99b6d5e86b",
   "metadata": {
    "tags": []
   },
   "outputs": [],
   "source": []
  },
  {
   "cell_type": "code",
   "execution_count": 46,
   "id": "66960fbf-a61f-424e-ac03-99794340fa7a",
   "metadata": {
    "tags": []
   },
   "outputs": [],
   "source": []
  },
  {
   "cell_type": "code",
   "execution_count": 48,
   "id": "8ec7b27a-6d7e-432d-bad1-dd097ecebc59",
   "metadata": {
    "tags": []
   },
   "outputs": [
    {
     "data": {
      "text/plain": [
       "198"
      ]
     },
     "execution_count": 48,
     "metadata": {},
     "output_type": "execute_result"
    }
   ],
   "source": []
  },
  {
   "cell_type": "code",
   "execution_count": null,
   "id": "e66cc64f-9a9a-439d-9250-1716295b4048",
   "metadata": {},
   "outputs": [],
   "source": []
  }
 ],
 "metadata": {
  "kernelspec": {
   "display_name": "Python 3 (ipykernel)",
   "language": "python",
   "name": "python3"
  },
  "language_info": {
   "codemirror_mode": {
    "name": "ipython",
    "version": 3
   },
   "file_extension": ".py",
   "mimetype": "text/x-python",
   "name": "python",
   "nbconvert_exporter": "python",
   "pygments_lexer": "ipython3",
   "version": "3.8.16"
  }
 },
 "nbformat": 4,
 "nbformat_minor": 5
}
