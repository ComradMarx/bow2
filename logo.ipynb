{
 "cells": [
  {
   "cell_type": "code",
   "execution_count": null,
   "id": "67061033-c0aa-4d63-af43-91f242bf0fb5",
   "metadata": {},
   "outputs": [],
   "source": [
    "''\n"
   ]
  },
  {
   "cell_type": "code",
   "execution_count": 1,
   "id": "095232df-d821-46b8-88b1-b58f1e4794b4",
   "metadata": {
    "tags": []
   },
   "outputs": [],
   "source": [
    "base_dir ='/Users/deanemarks/Desktop/bow/'\n"
   ]
  },
  {
   "cell_type": "code",
   "execution_count": null,
   "id": "bb3e1cdb-c4f0-4dd4-84a3-e2fd56bb3ce2",
   "metadata": {},
   "outputs": [],
   "source": []
  },
  {
   "cell_type": "code",
   "execution_count": 57,
   "id": "ea3e216d-0fc3-4552-8670-e1939f73abd0",
   "metadata": {
    "tags": []
   },
   "outputs": [],
   "source": [
    "import os\n",
    "dir2 = '/Users/deanemarks/Desktop/Delta_Dawn_&_Python'\n",
    "os.chdir(dir2)\n",
    "\n",
    "\n",
    "from PIL import Image, ImageDraw , ImageFont, ImageOps, ImageFilter\n",
    "import requests as r\n",
    "from bs4 import BeautifulSoup\n",
    "%run Functions.ipynb\n",
    "import random\n",
    "os.chdir(base_dir)"
   ]
  },
  {
   "cell_type": "code",
   "execution_count": 96,
   "id": "a8e790ce-2c62-4cb1-a1cd-b3190d6bca10",
   "metadata": {
    "tags": []
   },
   "outputs": [],
   "source": [
    "import os\n",
    "\n",
    "def delete_files_in_folder(folder_path):\n",
    "    # Get all the files in the folder\n",
    "    files = os.listdir(folder_path)\n",
    "\n",
    "    # Iterate over each file and delete it\n",
    "    for file_name in files:\n",
    "        file_path = os.path.join(folder_path, file_name)\n",
    "        if os.path.isfile(file_path):\n",
    "            os.remove(file_path)"
   ]
  },
  {
   "cell_type": "code",
   "execution_count": 93,
   "id": "aca24731-c24a-4831-b703-43ae2b1e138c",
   "metadata": {
    "tags": []
   },
   "outputs": [],
   "source": []
  },
  {
   "cell_type": "code",
   "execution_count": null,
   "id": "736f553c-7220-4ff3-bdef-b29eb3f2dff2",
   "metadata": {
    "tags": []
   },
   "outputs": [],
   "source": []
  },
  {
   "cell_type": "code",
   "execution_count": 97,
   "id": "38cba172-437a-4558-acd2-3c4771e2bb5a",
   "metadata": {
    "tags": []
   },
   "outputs": [],
   "source": [
    "# Call the function to delete files in the folder\n"
   ]
  },
  {
   "cell_type": "code",
   "execution_count": null,
   "id": "fb3dcd0d-e74d-4a8d-876d-dc1f59612d58",
   "metadata": {},
   "outputs": [],
   "source": []
  },
  {
   "cell_type": "code",
   "execution_count": null,
   "id": "ab43aff3-abc2-4a68-9c21-cf957eacd39e",
   "metadata": {
    "tags": []
   },
   "outputs": [],
   "source": []
  },
  {
   "cell_type": "code",
   "execution_count": 105,
   "id": "fea2d48a-ea20-4cf8-8e1b-dea48d3ed3e0",
   "metadata": {
    "tags": []
   },
   "outputs": [],
   "source": [
    "\n"
   ]
  },
  {
   "cell_type": "code",
   "execution_count": 109,
   "id": "fe54106a-5116-42bc-aeab-852dabe9600c",
   "metadata": {
    "tags": []
   },
   "outputs": [
    {
     "data": {
      "text/plain": [
       "'logo.png'"
      ]
     },
     "execution_count": 109,
     "metadata": {},
     "output_type": "execute_result"
    }
   ],
   "source": []
  },
  {
   "cell_type": "code",
   "execution_count": null,
   "id": "bc115152-7d4a-435b-bd8b-3b17d1b9bd9e",
   "metadata": {
    "tags": []
   },
   "outputs": [],
   "source": []
  },
  {
   "cell_type": "code",
   "execution_count": null,
   "id": "58377daa-c814-4d4b-94ff-cc432c40e860",
   "metadata": {
    "tags": []
   },
   "outputs": [
    {
     "name": "stdout",
     "output_type": "stream",
     "text": [
      "1\n",
      "2\n",
      "3\n",
      "4\n",
      "5\n",
      "6\n",
      "7\n",
      "8\n",
      "9\n",
      "10\n",
      "1\n",
      "2\n",
      "3\n",
      "4\n",
      "5\n",
      "6\n",
      "7\n",
      "8\n",
      "9\n",
      "10\n",
      "1\n",
      "2\n",
      "3\n",
      "4\n",
      "5\n",
      "6\n",
      "7\n",
      "8\n",
      "9\n",
      "10\n",
      "1\n",
      "2\n",
      "3\n",
      "4\n",
      "5\n",
      "6\n",
      "7\n",
      "8\n",
      "9\n",
      "10\n",
      "1\n",
      "2\n",
      "3\n",
      "4\n",
      "5\n",
      "6\n",
      "7\n",
      "8\n",
      "9\n",
      "10\n",
      "1\n",
      "2\n",
      "3\n",
      "4\n",
      "5\n",
      "6\n",
      "7\n",
      "8\n",
      "9\n",
      "10\n",
      "1\n",
      "2\n",
      "3\n",
      "4\n",
      "5\n",
      "6\n",
      "7\n",
      "8\n",
      "9\n",
      "10\n",
      "1\n",
      "2\n",
      "3\n",
      "4\n",
      "5\n",
      "6\n",
      "7\n",
      "8\n",
      "9\n",
      "10\n",
      "1\n",
      "2\n",
      "3\n",
      "4\n",
      "5\n",
      "6\n",
      "7\n",
      "8\n",
      "9\n",
      "10\n",
      "1\n",
      "2\n",
      "3\n",
      "4\n",
      "5\n",
      "6\n",
      "7\n",
      "8\n",
      "9\n",
      "10\n",
      "1\n",
      "2\n",
      "3\n",
      "4\n",
      "5\n",
      "6\n",
      "7\n",
      "8\n",
      "9\n",
      "10\n"
     ]
    }
   ],
   "source": [
    "while True:\n",
    "\n",
    "\n",
    "    while True:\n",
    "        try:\n",
    "            os.listdir()[0]\n",
    "            break\n",
    "        except IndexError:\n",
    "            pass\n",
    "\n",
    "\n",
    "\n",
    "    #figure out how to get this in from the internet\n",
    "    logo_variable = os.listdir()[0]\n",
    "    logo = Image.open(f\"/Users/deanemarks/Desktop/bow/uploads/{logo_variable}\").convert('RGBA')\n",
    "\n",
    "\n",
    "\n",
    "    #logo = kill_white(logo)\n",
    "\n",
    "\n",
    "    #read in the shapes\n",
    "    front_shape = Image.open(f\"/Users/deanemarks/Desktop/bow/shapes/front.png\").convert('RGBA')\n",
    "    back_shape = Image.open(f\"/Users/deanemarks/Desktop/bow/shapes/back.png\").convert('RGBA')\n",
    "    center_shape = Image.open(f\"/Users/deanemarks/Desktop/bow/shapes/center.png\").convert('RGBA')\n",
    "    strap_shape = Image.open(f\"/Users/deanemarks/Desktop/bow/shapes/strap.png\").convert('RGBA')\n",
    "\n",
    "\n",
    "\n",
    "\n",
    "\n",
    "    Y = 1\n",
    "\n",
    "    while Y < 11:\n",
    "    #while Y < 2:\n",
    "\n",
    "\n",
    "        if Y == 1:\n",
    "            logo_size = 50\n",
    "\n",
    "        if  Y == 2:\n",
    "            logo_size = 75\n",
    "\n",
    "        if  Y == 3:\n",
    "            logo_size = 100   \n",
    "\n",
    "        if  Y == 4:\n",
    "            logo_size = 125\n",
    "\n",
    "        if  Y == 5:\n",
    "            logo_size = 150\n",
    "\n",
    "        if  Y == 5:\n",
    "            logo_size = 175\n",
    "\n",
    "        if  Y == 7:\n",
    "            logo_size = 200   \n",
    "\n",
    "        if  Y == 8:\n",
    "            logo_size = 225\n",
    "\n",
    "        if  Y == 9:\n",
    "            logo_size = 250\n",
    "\n",
    "        if  Y == 10:\n",
    "            logo_size = 275\n",
    "\n",
    "\n",
    "\n",
    "\n",
    "        logo = resize_img_porportional_by_height(img = logo, \n",
    "                                  desired_height = logo_size )\n",
    "\n",
    "\n",
    "        #selects smallest side as the margin\n",
    "        size_list = list(logo.size)\n",
    "        size_list.sort()\n",
    "        logo_margin = size_list[0]\n",
    "        logo_margin = int(logo_margin/ 2)\n",
    "\n",
    "        #transparent brick layer with logos\n",
    "        ########################################\n",
    "        brick = brick_logo(\n",
    "                   Y_margin = logo_margin, \n",
    "                   X_margin = logo_margin, \n",
    "                   Z_margin= logo_margin, \n",
    "                   logo_rotation=0, \n",
    "                   logo_variable = logo, \n",
    "                   img_variable = front_shape)\n",
    "\n",
    "\n",
    "\n",
    "        # create a Mask from bow shapes and transparent logo brick \n",
    "        front_mask = mask(shape_image = front_shape , design_image = brick )\n",
    "        center_mask = mask(shape_image = center_shape , design_image = brick.rotate(90) )\n",
    "        brick = shift_image(brick, lef_right_variable = 20, up_down_variable = 0)   #shift the brick\n",
    "        back_mask = mask(shape_image = back_shape  , design_image = brick.rotate(180))\n",
    "        brick = shift_image(brick, lef_right_variable = -20, up_down_variable = 0) #SHIFT THE BRICK BACK? \n",
    "        strap_mask = mask(shape_image = strap_shape  , design_image = brick )\n",
    "\n",
    "\n",
    "\n",
    "\n",
    "        #put combine the images\n",
    "        result = Image.alpha_composite(strap_mask, back_mask)\n",
    "        result = Image.alpha_composite(result, front_mask)\n",
    "        result = Image.alpha_composite(result, center_mask)\n",
    "\n",
    "\n",
    "\n",
    "        result.save(f'/Users/deanemarks/Desktop/bow/logo_mask/{Y}.png')\n",
    "        print(Y)\n",
    "\n",
    "        Y+=1 \n",
    "\n",
    "\n",
    "\n",
    "\n",
    "\n",
    "    delete_files_in_folder('/Users/deanemarks/Desktop/bow/uploads')"
   ]
  },
  {
   "cell_type": "code",
   "execution_count": null,
   "id": "0b37d971-0bbb-450f-ae1e-58a82a554ec3",
   "metadata": {},
   "outputs": [],
   "source": []
  },
  {
   "cell_type": "code",
   "execution_count": null,
   "id": "dc548d3c-eb62-459b-8f4b-7dd0f020319b",
   "metadata": {},
   "outputs": [],
   "source": []
  },
  {
   "cell_type": "code",
   "execution_count": null,
   "id": "5514163b-67de-436e-a545-439c161fedeb",
   "metadata": {},
   "outputs": [],
   "source": []
  },
  {
   "cell_type": "code",
   "execution_count": null,
   "id": "dcc58598-624d-4a83-828d-616daea20aa4",
   "metadata": {},
   "outputs": [],
   "source": []
  },
  {
   "cell_type": "code",
   "execution_count": null,
   "id": "982d97d3-9a9a-41c3-8a68-f4549fcf4094",
   "metadata": {
    "tags": []
   },
   "outputs": [],
   "source": []
  },
  {
   "cell_type": "code",
   "execution_count": null,
   "id": "05a81937-c969-4818-bd82-b707ce931725",
   "metadata": {
    "tags": []
   },
   "outputs": [],
   "source": []
  },
  {
   "cell_type": "code",
   "execution_count": null,
   "id": "979260e9-689f-4f81-beca-0b99b6d5e86b",
   "metadata": {
    "tags": []
   },
   "outputs": [],
   "source": []
  },
  {
   "cell_type": "code",
   "execution_count": null,
   "id": "66960fbf-a61f-424e-ac03-99794340fa7a",
   "metadata": {
    "tags": []
   },
   "outputs": [],
   "source": []
  },
  {
   "cell_type": "code",
   "execution_count": null,
   "id": "8ec7b27a-6d7e-432d-bad1-dd097ecebc59",
   "metadata": {
    "tags": []
   },
   "outputs": [],
   "source": []
  },
  {
   "cell_type": "code",
   "execution_count": null,
   "id": "e66cc64f-9a9a-439d-9250-1716295b4048",
   "metadata": {},
   "outputs": [],
   "source": []
  },
  {
   "cell_type": "code",
   "execution_count": 75,
   "id": "4b3c586e-edb6-4d74-95a4-f2d72d46964e",
   "metadata": {
    "tags": []
   },
   "outputs": [],
   "source": []
  },
  {
   "cell_type": "code",
   "execution_count": null,
   "id": "b7ffcb92-3788-4a02-9ff8-2a5d98cc3ad5",
   "metadata": {
    "tags": []
   },
   "outputs": [],
   "source": []
  },
  {
   "cell_type": "code",
   "execution_count": null,
   "id": "8633dc17-d1e6-4a7b-8604-06d09087a986",
   "metadata": {
    "tags": []
   },
   "outputs": [],
   "source": []
  },
  {
   "cell_type": "code",
   "execution_count": null,
   "id": "0414d904-df6f-4012-80e7-9abcc6868c17",
   "metadata": {},
   "outputs": [],
   "source": []
  },
  {
   "cell_type": "code",
   "execution_count": null,
   "id": "b810fa2b-e885-4a15-af97-47a7b1dec32d",
   "metadata": {},
   "outputs": [],
   "source": []
  }
 ],
 "metadata": {
  "kernelspec": {
   "display_name": "Python 3 (ipykernel)",
   "language": "python",
   "name": "python3"
  },
  "language_info": {
   "codemirror_mode": {
    "name": "ipython",
    "version": 3
   },
   "file_extension": ".py",
   "mimetype": "text/x-python",
   "name": "python",
   "nbconvert_exporter": "python",
   "pygments_lexer": "ipython3",
   "version": "3.8.16"
  }
 },
 "nbformat": 4,
 "nbformat_minor": 5
}
