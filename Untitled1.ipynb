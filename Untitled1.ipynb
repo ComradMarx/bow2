{
 "cells": [
  {
   "cell_type": "code",
   "execution_count": 1,
   "id": "c8917a8a-4b59-4568-8b1b-fb304a7eb02a",
   "metadata": {
    "tags": []
   },
   "outputs": [],
   "source": [
    "url = 'https://docs.google.com/spreadsheets/d/e/2PACX-1vSZLiVyNQH269d54w3rTkNnLP1x18JKBZGuIKX_ptZh1qOhRRL2qdq8uu9HX5brtzzyntR3inBFU6M9/pubhtml'"
   ]
  },
  {
   "cell_type": "code",
   "execution_count": 8,
   "id": "92c6b468-24ae-48b2-81a0-449a6e5ce8ea",
   "metadata": {
    "tags": []
   },
   "outputs": [],
   "source": []
  },
  {
   "cell_type": "code",
   "execution_count": 52,
   "id": "c3597835-cf8a-467c-9bf0-d758ec4c58d4",
   "metadata": {
    "tags": []
   },
   "outputs": [],
   "source": [
    "import os\n",
    "import requests as r\n",
    "from bs4 import BeautifulSoup\n",
    "import pandas as pd\n",
    "\n",
    "html = r.get(url).text\n",
    "soup = BeautifulSoup(html, 'html.parser')\n",
    "\n",
    "soup_object = soup.find_all('td')\n",
    "\n",
    "soup_list = []\n",
    "for x in soup_object:\n",
    "    soup_list.append(x.text)\n",
    "    \n",
    "    \n",
    "time_stamp_lit = soup_list[0::3]\n",
    "file_name_list = soup_list[1::3]\n",
    "pic_list = soup_list[2::3]\n",
    "\n",
    "\n",
    "user_dict = {'time':time_stamp_lit[2:], \n",
    "        'file_name': file_name_list[2:], \n",
    "        'pic_link': pic_list[2:]}\n",
    "\n",
    "\n",
    "df = pd.DataFrame(user_dict)"
   ]
  },
  {
   "cell_type": "code",
   "execution_count": 44,
   "id": "07a4a80a-98f7-4e3e-9853-1b2d9a298196",
   "metadata": {
    "tags": []
   },
   "outputs": [
    {
     "data": {
      "text/html": [
       "<div>\n",
       "<style scoped>\n",
       "    .dataframe tbody tr th:only-of-type {\n",
       "        vertical-align: middle;\n",
       "    }\n",
       "\n",
       "    .dataframe tbody tr th {\n",
       "        vertical-align: top;\n",
       "    }\n",
       "\n",
       "    .dataframe thead th {\n",
       "        text-align: right;\n",
       "    }\n",
       "</style>\n",
       "<table border=\"1\" class=\"dataframe\">\n",
       "  <thead>\n",
       "    <tr style=\"text-align: right;\">\n",
       "      <th></th>\n",
       "      <th>time</th>\n",
       "      <th>file_name</th>\n",
       "      <th>pic_link</th>\n",
       "    </tr>\n",
       "  </thead>\n",
       "  <tbody>\n",
       "    <tr>\n",
       "      <th>0</th>\n",
       "      <td>5/16/2023 13:19:42</td>\n",
       "      <td>delta_dawn</td>\n",
       "      <td>https://drive.google.com/open?id=1QMeNzY_woWs_...</td>\n",
       "    </tr>\n",
       "  </tbody>\n",
       "</table>\n",
       "</div>"
      ],
      "text/plain": [
       "                 time    file_name  \\\n",
       "0  5/16/2023 13:19:42  delta_dawn    \n",
       "\n",
       "                                            pic_link  \n",
       "0  https://drive.google.com/open?id=1QMeNzY_woWs_...  "
      ]
     },
     "execution_count": 44,
     "metadata": {},
     "output_type": "execute_result"
    }
   ],
   "source": [
    "df"
   ]
  },
  {
   "cell_type": "code",
   "execution_count": null,
   "id": "708f0073-e844-4628-8364-4dfb3f3e4278",
   "metadata": {
    "tags": []
   },
   "outputs": [],
   "source": []
  },
  {
   "cell_type": "code",
   "execution_count": null,
   "id": "91942953-8ed0-4a03-8a79-fd45eb91bf6a",
   "metadata": {
    "tags": []
   },
   "outputs": [],
   "source": []
  },
  {
   "cell_type": "code",
   "execution_count": null,
   "id": "cf529c0b-1eb5-4eda-a5e5-e8ab5a18d106",
   "metadata": {
    "tags": []
   },
   "outputs": [],
   "source": []
  },
  {
   "cell_type": "code",
   "execution_count": null,
   "id": "8d085bb5-5913-401d-8db5-b752a9b7f65f",
   "metadata": {
    "tags": []
   },
   "outputs": [],
   "source": []
  },
  {
   "cell_type": "code",
   "execution_count": null,
   "id": "11eafc28-a347-4de9-a07a-8079b1cbb29c",
   "metadata": {
    "tags": []
   },
   "outputs": [],
   "source": []
  },
  {
   "cell_type": "code",
   "execution_count": null,
   "id": "e51da390-ad6f-49de-8f36-62b79edcc4d5",
   "metadata": {
    "tags": []
   },
   "outputs": [],
   "source": [
    "\n"
   ]
  },
  {
   "cell_type": "code",
   "execution_count": 33,
   "id": "1f89d412-4465-4db4-bf5d-246ee6792cfe",
   "metadata": {
    "tags": []
   },
   "outputs": [],
   "source": []
  },
  {
   "cell_type": "code",
   "execution_count": null,
   "id": "1af65b65-2101-4f81-a8e0-41b11d85d517",
   "metadata": {
    "tags": []
   },
   "outputs": [],
   "source": []
  },
  {
   "cell_type": "code",
   "execution_count": null,
   "id": "558e7456-88c1-472f-aa79-26cf31d3451f",
   "metadata": {},
   "outputs": [],
   "source": []
  },
  {
   "cell_type": "code",
   "execution_count": null,
   "id": "312667de-ceff-43a8-87a1-b8ebddc93d91",
   "metadata": {
    "tags": []
   },
   "outputs": [],
   "source": []
  },
  {
   "cell_type": "code",
   "execution_count": null,
   "id": "a3c75f6f-d3f5-4ead-a95f-328b4c4056e7",
   "metadata": {},
   "outputs": [],
   "source": []
  }
 ],
 "metadata": {
  "kernelspec": {
   "display_name": "Python 3 (ipykernel)",
   "language": "python",
   "name": "python3"
  },
  "language_info": {
   "codemirror_mode": {
    "name": "ipython",
    "version": 3
   },
   "file_extension": ".py",
   "mimetype": "text/x-python",
   "name": "python",
   "nbconvert_exporter": "python",
   "pygments_lexer": "ipython3",
   "version": "3.8.16"
  }
 },
 "nbformat": 4,
 "nbformat_minor": 5
}
